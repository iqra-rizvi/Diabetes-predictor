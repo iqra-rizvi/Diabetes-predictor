{
 "cells": [
  {
   "cell_type": "code",
   "execution_count": 3,
   "id": "d7e16155-15bb-461a-8cc5-3d9269f396ba",
   "metadata": {},
   "outputs": [
    {
     "name": "stdout",
     "output_type": "stream",
     "text": [
      "\n",
      "Enter Patient Info:\n"
     ]
    },
    {
     "name": "stdin",
     "output_type": "stream",
     "text": [
      "Pregnancies:  1\n",
      "Glucose:  91\n",
      "BloodPressure:  64\n",
      "SkinThickness:  24\n",
      "Insulin:  0\n",
      "BMI:  29.2\n",
      "DiabetesPedigreeFunction:  0.192\n",
      "Age:  21\n"
     ]
    },
    {
     "name": "stdout",
     "output_type": "stream",
     "text": [
      "\n",
      "🔍 Prediction Result:\n",
      "✅ The person is **not diabetic**.\n",
      "Confidence: 98.5%\n"
     ]
    }
   ],
   "source": [
    "import pandas as pd\n",
    "import numpy as np\n",
    "from sklearn.model_selection import train_test_split\n",
    "from sklearn.preprocessing import StandardScaler\n",
    "from sklearn.ensemble import RandomForestClassifier\n",
    "\n",
    "# Load the dataset\n",
    "df = pd.read_csv(\"diabetes.csv\")\n",
    "\n",
    "# Replace invalid zeros with NaN\n",
    "cols_with_zero_invalid = [\"Glucose\", \"BloodPressure\", \"SkinThickness\", \"Insulin\", \"BMI\"]\n",
    "df[cols_with_zero_invalid] = df[cols_with_zero_invalid].replace(0, np.nan)\n",
    "\n",
    "# Fill missing values with column means\n",
    "df.fillna(df.mean(), inplace=True)\n",
    "\n",
    "# Split features and labels\n",
    "X = df.drop(\"Outcome\", axis=1)\n",
    "y = df[\"Outcome\"]\n",
    "\n",
    "# Scale features\n",
    "scaler = StandardScaler()\n",
    "X_scaled = scaler.fit_transform(X)\n",
    "# Split into training/testing sets\n",
    "X_train, X_test, y_train, y_test = train_test_split(\n",
    "    X_scaled, y, test_size=0.2, random_state=42, stratify=y\n",
    ")\n",
    "\n",
    "# Train the model\n",
    "model = RandomForestClassifier(n_estimators=200, random_state=42)\n",
    "model.fit(X_train, y_train)\n",
    "\n",
    "# ------------------ 🧪 PREDICTION FUNCTION ------------------\n",
    "def predict_diabetes():\n",
    "    print(\"\\nEnter Patient Info:\")\n",
    "    features = [\"Pregnancies\", \"Glucose\", \"BloodPressure\", \"SkinThickness\", \n",
    "                \"Insulin\", \"BMI\", \"DiabetesPedigreeFunction\", \"Age\"]\n",
    "    inputs = []\n",
    "\n",
    "    for feature in features:\n",
    "        val = float(input(f\"{feature}: \"))\n",
    "        inputs.append(val)\n",
    "\n",
    "    # Create DataFrame with feature names to avoid warning\n",
    "    input_df = pd.DataFrame([inputs], columns=X.columns)\n",
    "\n",
    "    # Scale the input\n",
    "    input_scaled = scaler.transform(input_df)\n",
    "\n",
    "    # Predict class and get probability of both classes\n",
    "    prediction_proba = model.predict_proba(input_scaled)[0]\n",
    "    prediction = np.argmax(prediction_proba)\n",
    "    confidence = prediction_proba[prediction]\n",
    "\n",
    "    # Show result\n",
    "    print(\"\\n🔍 Prediction Result:\")\n",
    "    if prediction == 1:\n",
    "        print(\"⚠️ The person is **likely diabetic**.\")\n",
    "    else:\n",
    "        print(\"✅ The person is **not diabetic**.\")\n",
    "    print(f\"Confidence: {round(confidence * 100, 2)}%\")\n",
    "\n",
    "# Run prediction\n",
    "predict_diabetes()\n"
   ]
  },
  {
   "cell_type": "code",
   "execution_count": 5,
   "id": "09649da4-a12b-43a9-8812-ec71b093815d",
   "metadata": {},
   "outputs": [
    {
     "name": "stdout",
     "output_type": "stream",
     "text": [
      "\n",
      "✅ Test Accuracy: 74.03%\n",
      "\n",
      "📄 Classification Report:\n",
      "              precision    recall  f1-score   support\n",
      "\n",
      "Non-Diabetic       0.78      0.83      0.81       100\n",
      "    Diabetic       0.65      0.57      0.61        54\n",
      "\n",
      "    accuracy                           0.74       154\n",
      "   macro avg       0.71      0.70      0.71       154\n",
      "weighted avg       0.73      0.74      0.74       154\n",
      "\n"
     ]
    },
    {
     "name": "stderr",
     "output_type": "stream",
     "text": [
      "C:\\Users\\ASUS\\AppData\\Local\\Temp\\ipykernel_6820\\3908284020.py:25: UserWarning: Glyph 129513 (\\N{JIGSAW PUZZLE PIECE}) missing from font(s) DejaVu Sans.\n",
      "  plt.tight_layout()\n",
      "C:\\Users\\ASUS\\anaconda3\\Lib\\site-packages\\IPython\\core\\pylabtools.py:170: UserWarning: Glyph 129513 (\\N{JIGSAW PUZZLE PIECE}) missing from font(s) DejaVu Sans.\n",
      "  fig.canvas.print_figure(bytes_io, **kw)\n"
     ]
    },
    {
     "data": {
      "image/png": "[encoded data removed]",
      "text/plain": [
       "<Figure size 600x400 with 2 Axes>"
      ]
     },
     "metadata": {},
     "output_type": "display_data"
    }
   ],
   "source": [
    "from sklearn.metrics import classification_report, confusion_matrix, accuracy_score\n",
    "import seaborn as sns\n",
    "import matplotlib.pyplot as plt\n",
    "\n",
    "# Evaluate the model on the test set\n",
    "y_pred = model.predict(X_test)\n",
    "\n",
    "# 1. Accuracy\n",
    "accuracy = accuracy_score(y_test, y_pred)\n",
    "print(f\"\\n✅ Test Accuracy: {round(accuracy * 100, 2)}%\")\n",
    "\n",
    "# 2. Classification report\n",
    "print(\"\\n📄 Classification Report:\")\n",
    "print(classification_report(y_test, y_pred, target_names=[\"Non-Diabetic\", \"Diabetic\"]))\n",
    "\n",
    "# 3. Confusion matrix\n",
    "cm = confusion_matrix(y_test, y_pred)\n",
    "plt.figure(figsize=(6, 4))\n",
    "sns.heatmap(cm, annot=True, fmt=\"d\", cmap=\"Blues\",\n",
    "            xticklabels=[\"Non-Diabetic\", \"Diabetic\"],\n",
    "            yticklabels=[\"Non-Diabetic\", \"Diabetic\"])\n",
    "plt.title(\"🧩 Confusion Matrix\")\n",
    "plt.xlabel(\"Predicted\")\n",
    "plt.ylabel(\"Actual\")\n",
    "plt.tight_layout()\n",
    "plt.show()\n"
   ]
  },
  {
   "cell_type": "code",
   "execution_count": 7,
   "id": "db7f53d7-c137-4c67-823e-15aab8194da9",
   "metadata": {},
   "outputs": [
    {
     "data": {
      "text/plain": [
       "['scaler.pkl']"
      ]
     },
     "execution_count": 7,
     "metadata": {},
     "output_type": "execute_result"
    }
   ],
   "source": [
    "import joblib\n",
    "\n",
    "# Save model and scaler\n",
    "joblib.dump(model, \"diabetes_model.pkl\")\n",
    "joblib.dump(scaler, \"scaler.pkl\")\n"
   ]
  },
  {
   "cell_type": "code",
   "execution_count": null,
   "id": "49db4e12-7bce-4b08-bc4b-b1812ce809a4",
   "metadata": {},
   "outputs": [],
   "source": []
  }
 ],
 "metadata": {
  "kernelspec": {
   "display_name": "Python [conda env:base] *",
   "language": "python",
   "name": "conda-base-py"
  },
  "language_info": {
   "codemirror_mode": {
    "name": "ipython",
    "version": 3
   },
   "file_extension": ".py",
   "mimetype": "text/x-python",
   "name": "python",
   "nbconvert_exporter": "python",
   "pygments_lexer": "ipython3",
   "version": "3.12.7"
  }
 },
 "nbformat": 4,
 "nbformat_minor": 5
}
